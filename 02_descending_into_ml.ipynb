{
 "cells": [
  {
   "cell_type": "markdown",
   "metadata": {},
   "source": [
    "# 深入了解机器学习 (Descending into ML)\n",
    "    线性回归是一种找到最适合一组点的直线或超平面的方法。"
   ]
  },
  {
   "cell_type": "markdown",
   "metadata": {},
   "source": [
    "## [视频讲座](https://developers.google.cn/machine-learning/crash-course/descending-into-ml/video-lecture)"
   ]
  },
  {
   "cell_type": "markdown",
   "metadata": {},
   "source": [
    "## [线性回归](https://developers.google.cn/machine-learning/crash-course/descending-into-ml/linear-regression)\n",
    "\n",
    "```y = wx+b```\n",
    "- y 预测标签\n",
    "- w 特征的权重（直线的斜率）\n",
    "- x 特征\n",
    "- b 偏差（y轴截距）"
   ]
  },
  {
   "cell_type": "markdown",
   "metadata": {},
   "source": [
    "## [训练与损失](https://developers.google.cn/machine-learning/crash-course/descending-into-ml/training-and-loss)\n",
    "\n",
    "- **训练模型**表示通过有标签样本来学习（确定）所有权重和偏差的理想值。\n",
    "- 在监督式学习中，机器学习算法通过以下方式构建模型：检查多个样本并尝试找出可最大限度地减少损失的模型；这一过程称为**经验风险最小化**。\n",
    "- 训练模型的目标是从所有样本中找到一组平均损失“较小”的权重和偏差。\n",
    "- **均方误差 (MSE)** 指的是每个样本的平均平方损失。要计算 MSE，请求出各个样本的所有平方损失之和，然后除以样本数量。\n",
    "- 虽然 MSE 常用于机器学习，但它既不是唯一实用的损失函数，也不是适用于所有情形的最佳损失函数。"
   ]
  },
  {
   "cell_type": "markdown",
   "metadata": {},
   "source": [
    "## 误差\n",
    "\n",
    "- 误差反应了模型在预测任何给定样本时的效果如何。\n",
    "- L2误差，模型预测结果与真实值之间的平方差，简称**方差**。\n",
    "- 在训练模型时，并非专注于尽量减少某一个样本的误差，而是着眼于**最大限度地减少整个数据集**的误差。"
   ]
  }
 ],
 "metadata": {
  "kernelspec": {
   "display_name": "Python 3",
   "language": "python",
   "name": "python3"
  },
  "language_info": {
   "codemirror_mode": {
    "name": "ipython",
    "version": 3
   },
   "file_extension": ".py",
   "mimetype": "text/x-python",
   "name": "python",
   "nbconvert_exporter": "python",
   "pygments_lexer": "ipython3",
   "version": "3.6.4"
  }
 },
 "nbformat": 4,
 "nbformat_minor": 2
}
