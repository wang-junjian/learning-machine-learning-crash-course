{
 "cells": [
  {
   "cell_type": "markdown",
   "metadata": {},
   "source": [
    "# 框架处理"
   ]
  },
  {
   "cell_type": "markdown",
   "metadata": {},
   "source": [
    "## [机器学习主要术语](https://developers.google.cn/machine-learning/crash-course/framing/ml-terminology)\n",
    "\n",
    "### 标签\n",
    "标签是我们要预测的事物，即简单线性回归中的 y 变量。\n",
    "\n",
    "### 特征\n",
    "特征是输入变量，即简单线性回归中的 x 变量。简单的机器学习项目可能会使用单个特征，而比较复杂的机器学习项目可能会使用**数百万**个特征。\n",
    "- 合适的特征应该是具体的且可量化的\n",
    "\n",
    "### 样本\n",
    "样本是指数据的特定实例：x。分为两类：\n",
    "- 有标签样本 `labeled examples: {features, label}: (x, y)`\n",
    "- 无标签样本 `unlabeled examples: {features, ?}: (x, ?)`\n",
    "\n",
    "### 模型\n",
    "\n",
    "模型定义了特征与标签之间的关系。模型生命周期的两个阶段：\n",
    "- 训练表示创建或学习模型。也就是说，您向模型展示有标签样本，让模型逐渐学习特征与标签之间的关系。\n",
    "- 推断表示将训练后的模型应用于无标签样本。也就是说，您使用训练后的模型来做出有用的预测 (y')。\n",
    "\n",
    "### 回归与分类\n",
    "- 回归模型可预测连续值。\n",
    "- 分类模型可预测离散值。"
   ]
  },
  {
   "cell_type": "markdown",
   "metadata": {},
   "source": [
    "## [视频讲座](https://developers.google.cn/machine-learning/crash-course/framing/video-lecture)字幕\n",
    "\n",
    "```\n",
    "0:00\t大家好，我叫D. Sculley。\n",
    "0:02\t我是负责为大家讲解机器学习速成课程 与TensorFlow API的Google员工之一。\n",
    "0:09\t在深入学习本课程之前， 我们先简单了解本课将介绍的基本框架，\n",
    "0:15\t即监督式机器学习。\n",
    "0:18\t在监督式机器学习中， 我们将学习如何创建模型来结合输入信息， 对以前从未见过的数据做出有用的预测。\n",
    "0:28\t当我们训练该模型时，会为其提供标签。\n",
    "0:33\t以垃圾邮件过滤模型为例，标签可以是 “垃圾邮件或非垃圾邮件”等内容，\n",
    "0:40\t它是我们试图预测的目标。\n",
    "0:43\t特征是我们表示数据的方式。\n",
    "0:46\t特征可以从电子邮件中提取，例如， 电子邮件中的字词、“收件人和发件人地址”、\n",
    "0:54\t各种路由或标题信息， 以及任何可以从电子邮件中提取\n",
    "0:59\t并提供给机器学习系统的信息。\n",
    "1:03\t样本是一份数据。\n",
    "1:05\t例如，一封电子邮件。\n",
    "1:08\t它可以是有标签的样本， 其中包含电子邮件中呈现的特征信息， 以及标签值“垃圾邮件或非垃圾邮件”。\n",
    "1:18\t这些信息可能来自用户。\n",
    "1:21\t或者，它也可以是无标签样本， 例如，一封我们拥有关于它的特征信息、 但不知道它是否为垃圾邮件的电子邮件。\n",
    "1:29\t我们要做的很可能是对其进行分类， 将其放入用户的收件箱或“垃圾邮件”文件夹。\n",
    "1:35\t最后，我们会获得一个模型， 该模型是执行预测的工具。\n",
    "1:40\t我们将通过从数据中学习规律 这一过程来尝试创建模型。\n",
    "```"
   ]
  }
 ],
 "metadata": {
  "kernelspec": {
   "display_name": "Python 3",
   "language": "python",
   "name": "python3"
  },
  "language_info": {
   "codemirror_mode": {
    "name": "ipython",
    "version": 3
   },
   "file_extension": ".py",
   "mimetype": "text/x-python",
   "name": "python",
   "nbconvert_exporter": "python",
   "pygments_lexer": "ipython3",
   "version": "3.6.4"
  }
 },
 "nbformat": 4,
 "nbformat_minor": 2
}
