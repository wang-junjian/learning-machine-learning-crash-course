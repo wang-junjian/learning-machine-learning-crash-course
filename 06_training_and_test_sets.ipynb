{
 "cells": [
  {
   "cell_type": "markdown",
   "metadata": {},
   "source": [
    "# 训练集和测试集 (Training and Test Sets)\n",
    "    测试集是用于评估根据训练集开发的模型的数据集。"
   ]
  },
  {
   "cell_type": "markdown",
   "metadata": {},
   "source": [
    "## [视频讲座](https://developers.google.cn/machine-learning/crash-course/training-and-test-sets/video-lecture)\n",
    "\n",
    "### 该拆分成多大规模的数据集呢？\n",
    "* 训练集规模越大，模型的学习效果就越好。\n",
    "* 测试集规模越大，我们对于评估指标的信心越充足，置信区间就越窄。\n",
    "\n",
    "* 数据集规模非常大，有十亿样本， 可以使用其中的10-15%进行测试。\n",
    "* 数据集规模很小，我们可能需要执行诸如交叉验证之类较为复杂的操作。\n",
    "\n",
    "* 典型陷阱就是绝对不要对测试数据进行训练。"
   ]
  },
  {
   "cell_type": "markdown",
   "metadata": {},
   "source": [
    "## [拆分数据](https://developers.google.cn/machine-learning/crash-course/training-and-test-sets/splitting-data)\n",
    "\n",
    "数据集\n",
    "* 训练集 - 用于训练模型的子集。\n",
    "* 测试集 - 用于测试训练后模型的子集。\n",
    "\n",
    "**确保您的测试集满足以下两个条件：**\n",
    "* 规模足够大，可产生具有统计意义的结果。\n",
    "* 能代表整个数据集。换言之，挑选的测试集的特征应该与训练集的特征相同。\n",
    "\n",
    "假设您的测试集满足上述两个条件，您的**目标是创建一个能够很好地泛化到新数据的模型。我们的测试集充当新数据的代理。**\n",
    "\n",
    "**请勿对测试数据进行训练。** 如果您的评估指标取得了意外的好结果，则可能表明您不小心对测试集进行了训练，因此无法再准确衡量该模型泛化到新数据的效果。例如，高准确率可能表明测试数据泄露到了训练集。"
   ]
  }
 ],
 "metadata": {
  "kernelspec": {
   "display_name": "Python 3",
   "language": "python",
   "name": "python3"
  },
  "language_info": {
   "codemirror_mode": {
    "name": "ipython",
    "version": 3
   },
   "file_extension": ".py",
   "mimetype": "text/x-python",
   "name": "python",
   "nbconvert_exporter": "python",
   "pygments_lexer": "ipython3",
   "version": "3.6.4"
  }
 },
 "nbformat": 4,
 "nbformat_minor": 2
}
